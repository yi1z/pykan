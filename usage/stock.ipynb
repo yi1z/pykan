{
 "cells": [
  {
   "cell_type": "code",
   "execution_count": 3,
   "metadata": {},
   "outputs": [
    {
     "name": "stderr",
     "output_type": "stream",
     "text": [
      "C:\\Users\\Yifang Zhang\\AppData\\Local\\Temp\\ipykernel_29912\\2791471388.py:33: UserWarning: torch.range is deprecated and will be removed in a future release because its behavior is inconsistent with Python's range builtin. Instead, use torch.arange, which produces values in [start, end).\n",
      "  train_input = torch.range(0, len(train_data) - 1).unsqueeze(1).to(device)\n",
      "C:\\Users\\Yifang Zhang\\AppData\\Local\\Temp\\ipykernel_29912\\2791471388.py:35: UserWarning: torch.range is deprecated and will be removed in a future release because its behavior is inconsistent with Python's range builtin. Instead, use torch.arange, which produces values in [start, end).\n",
      "  test_input = torch.range(0, len(test_data) - 1).unsqueeze(1).to(device)\n"
     ]
    },
    {
     "name": "stdout",
     "output_type": "stream",
     "text": [
      "[181.71, 183.38, 173.03, 169.3, 170.33, 173.5, 169.3, 169.89, 169.02, 166.9]\n",
      "torch.Size([2392]) torch.Size([126])\n"
     ]
    },
    {
     "name": "stderr",
     "output_type": "stream",
     "text": [
      "train loss: 1.22e+01 | test loss: 1.68e+02 | reg: 4.41e+01 :  25%|▊  | 5/20 [00:14<00:42,  2.83s/it]"
     ]
    }
   ],
   "source": [
    "from kan import KAN, create_dataset\n",
    "import torch\n",
    "\n",
    "# handle data\n",
    "filename = \"..\\dataset\\HistoricalData_1715050246783.csv\"\n",
    "\n",
    "# create a list to store the data\n",
    "data = []\n",
    "with open(filename) as f:\n",
    "    # counter = 0\n",
    "    for line in f.readlines()[1:]:\n",
    "        data.append(float(line.split(',')[1].strip(\"$\")))\n",
    "        # counter += 1\n",
    "\n",
    "print(data[:10])\n",
    "\n",
    "# get device\n",
    "device = 'cuda:0'\n",
    "\n",
    "# reverse the dataset\n",
    "data = data[::-1]\n",
    "# split the dataset into training and testing\n",
    "train_data = data[: int(len(data) * 0.95)]\n",
    "test_data = data[int(len(data) * 0.95) :]\n",
    "\n",
    "# convert to torch tensor\n",
    "train_data = torch.tensor(train_data).float().to(device)\n",
    "test_data = torch.tensor(test_data).float().to(device)\n",
    "print(train_data.shape, test_data.shape)\n",
    "\n",
    "model = KAN(width=[1,50,1], grid=10, k=30, seed=0, device=device)\n",
    "\n",
    "train_input = torch.range(0, len(train_data) - 1).unsqueeze(1).to(device)\n",
    "train_label = train_data.unsqueeze(1).to(device)\n",
    "test_input = torch.range(0, len(test_data) - 1).unsqueeze(1).to(device)\n",
    "test_label = test_data.unsqueeze(1).to(device)\n",
    "\n",
    "dataset = {\n",
    "    \"train_input\": train_input,\n",
    "    \"train_label\": train_label,\n",
    "    \"test_input\": test_input,\n",
    "    \"test_label\": test_label\n",
    "}\n",
    "\n",
    "# train the model\n",
    "model.train(dataset, opt=\"LBFGS\", steps=100, lamb=0.001, lamb_entropy=2.)\n",
    "model = model.prune()\n",
    "model(train_input)\n",
    "model.plot()"
   ]
  }
 ],
 "metadata": {
  "kernelspec": {
   "display_name": "venv",
   "language": "python",
   "name": "python3"
  },
  "language_info": {
   "codemirror_mode": {
    "name": "ipython",
    "version": 3
   },
   "file_extension": ".py",
   "mimetype": "text/x-python",
   "name": "python",
   "nbconvert_exporter": "python",
   "pygments_lexer": "ipython3",
   "version": "3.11.9"
  }
 },
 "nbformat": 4,
 "nbformat_minor": 2
}
